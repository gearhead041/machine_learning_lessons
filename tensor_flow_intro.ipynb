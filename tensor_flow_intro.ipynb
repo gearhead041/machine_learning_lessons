{
 "cells": [
  {
   "cell_type": "markdown",
   "metadata": {},
   "source": [
    "## What is a Tensor?\n",
    "A vector generalized to higher dimensions.\n",
    "Each tensor represents a partially defined computations that will eventually produce a value.\n",
    "Each tensor has a datatype and a shape.\n",
    "Datatype is what kind of information that is stored in a tensor."
   ]
  },
  {
   "cell_type": "code",
   "execution_count": 113,
   "metadata": {},
   "outputs": [],
   "source": [
    "import tensorflow as tf\n",
    "\n",
    "string  = tf.Variable(\"this is a string\", tf.string)\n",
    "number = tf.Variable(324, tf.int16)\n",
    "floating = tf.Variable(3.567, tf.float64)"
   ]
  },
  {
   "cell_type": "markdown",
   "metadata": {},
   "source": [
    "The above tensors are scalars,that is tensors with a single value.\n",
    "\n",
    "## Rank/Degree of Tensors\n",
    "This is the number of dimensions involved in a tensor\n",
    "e.g string above is rank 0 (scalar)"
   ]
  },
  {
   "cell_type": "code",
   "execution_count": 114,
   "metadata": {},
   "outputs": [],
   "source": [
    "rank1_tensor = tf.Variable([\"Test\",\"ok\",\"yes\"], tf.string)\n",
    "rank2_tensor = tf.Variable([[\"test\",\"ok\",\"again\"],[\"test\",\"yes\",\"again\"]], tf.string)"
   ]
  },
  {
   "cell_type": "markdown",
   "metadata": {},
   "source": [
    "To understand \n",
    "- rank 0 - can't 'move' along any dimensions\n",
    "- rank 1 - can 'move' along 1 dimension (e.g along the length of an array)\n",
    "- rank 2 - can 'move' along 2 dimensions (e.g 2-d array)\n",
    "\n",
    "To determine the rank of a tensor"
   ]
  },
  {
   "cell_type": "code",
   "execution_count": 115,
   "metadata": {},
   "outputs": [
    {
     "data": {
      "text/plain": [
       "<tf.Tensor: shape=(), dtype=int32, numpy=0>"
      ]
     },
     "execution_count": 115,
     "metadata": {},
     "output_type": "execute_result"
    }
   ],
   "source": [
    "tf.rank(number)\n",
    "# tf.rank(rank2_tensor)"
   ]
  },
  {
   "cell_type": "markdown",
   "metadata": {},
   "source": [
    "## Shape of Tensors\n",
    "It tells us how many items we have in each dimension.\n",
    "Last number is always elements in the list.\n",
    "e.g (1,2,3) means 1 list the tensor array, 2 lists in the first list and 3 elements in each of those lists."
   ]
  },
  {
   "cell_type": "code",
   "execution_count": 116,
   "metadata": {},
   "outputs": [
    {
     "name": "stdout",
     "output_type": "stream",
     "text": [
      "(3,)\n",
      "(2, 3)\n"
     ]
    }
   ],
   "source": [
    "print(rank1_tensor.shape) #  3 elements in the t\n",
    "print(rank2_tensor.shape) #2 interior lists in the tensor array with two elements in them"
   ]
  },
  {
   "cell_type": "markdown",
   "metadata": {},
   "source": [
    "### Changing Shape"
   ]
  },
  {
   "cell_type": "code",
   "execution_count": 117,
   "metadata": {},
   "outputs": [
    {
     "name": "stdout",
     "output_type": "stream",
     "text": [
      "tf.Tensor(\n",
      "[[[1. 1. 1.]\n",
      "  [1. 1. 1.]]], shape=(1, 2, 3), dtype=float32)\n",
      "tf.Tensor(\n",
      "[[[1.]\n",
      "  [1.]\n",
      "  [1.]]\n",
      "\n",
      " [[1.]\n",
      "  [1.]\n",
      "  [1.]]], shape=(2, 3, 1), dtype=float32)\n",
      "tf.Tensor(\n",
      "[[1. 1.]\n",
      " [1. 1.]\n",
      " [1. 1.]], shape=(3, 2), dtype=float32)\n"
     ]
    }
   ],
   "source": [
    "tensor1 = tf.ones([1,2,3])\n",
    "tensor2 = tf.reshape(tensor1, [2,3,1])\n",
    "tensor3 = tf.reshape(tensor1,[3,-1]) # -1 tells the tensor to calculate the size of that dimension in this case [3,3]\n",
    "print(tensor1)\n",
    "print(tensor2)\n",
    "print(tensor3)"
   ]
  },
  {
   "cell_type": "markdown",
   "metadata": {},
   "source": [
    "## Types of Tensors\n",
    "\n",
    "- Variable\n",
    "- Constant\n",
    "- Placeholder\n",
    "- SparseTensor\n",
    "\n",
    "With the exception fo Variable all other tensors are immutable.\n",
    "\n",
    "## Evaluating Tensors\n",
    "\n",
    "Evaluate a tensor by running it in a session. That is, get its value.\n",
    "\n"
   ]
  },
  {
   "cell_type": "code",
   "execution_count": 118,
   "metadata": {},
   "outputs": [],
   "source": [
    "# with tf.Session() as sess:\n",
    "#   tensor.eval()"
   ]
  },
  {
   "cell_type": "markdown",
   "metadata": {},
   "source": [
    "# TensorFlow Core Learning Algorithms\n",
    "\n",
    "We'll be looking at 4 fundamental machine learning algorithms in this course.\n",
    "\n",
    "- Linear Regression\n",
    "- Classification\n",
    "- Clustering\n",
    "- Hidden Markov Models\n",
    "\n",
    "## Linear Regression\n",
    "One of the most basic forms of machine learning and is used to predict numeric values. We try to have a linear correspondence between data points.\n"
   ]
  },
  {
   "cell_type": "code",
   "execution_count": 119,
   "metadata": {},
   "outputs": [
    {
     "name": "stdout",
     "output_type": "stream",
     "text": [
      "Requirement already satisfied: matplotlib in c:\\users\\badet\\documents\\code\\python_work\\scientific_stuff\\.conda\\lib\\site-packages (3.8.2)\n",
      "Requirement already satisfied: contourpy>=1.0.1 in c:\\users\\badet\\documents\\code\\python_work\\scientific_stuff\\.conda\\lib\\site-packages (from matplotlib) (1.2.0)\n",
      "Requirement already satisfied: cycler>=0.10 in c:\\users\\badet\\documents\\code\\python_work\\scientific_stuff\\.conda\\lib\\site-packages (from matplotlib) (0.12.1)\n",
      "Requirement already satisfied: fonttools>=4.22.0 in c:\\users\\badet\\documents\\code\\python_work\\scientific_stuff\\.conda\\lib\\site-packages (from matplotlib) (4.47.0)\n",
      "Requirement already satisfied: kiwisolver>=1.3.1 in c:\\users\\badet\\documents\\code\\python_work\\scientific_stuff\\.conda\\lib\\site-packages (from matplotlib) (1.4.5)\n",
      "Requirement already satisfied: numpy<2,>=1.21 in c:\\users\\badet\\documents\\code\\python_work\\scientific_stuff\\.conda\\lib\\site-packages (from matplotlib) (1.26.2)\n",
      "Requirement already satisfied: packaging>=20.0 in c:\\users\\badet\\documents\\code\\python_work\\scientific_stuff\\.conda\\lib\\site-packages (from matplotlib) (23.2)\n",
      "Requirement already satisfied: pillow>=8 in c:\\users\\badet\\documents\\code\\python_work\\scientific_stuff\\.conda\\lib\\site-packages (from matplotlib) (10.1.0)\n",
      "Requirement already satisfied: pyparsing>=2.3.1 in c:\\users\\badet\\documents\\code\\python_work\\scientific_stuff\\.conda\\lib\\site-packages (from matplotlib) (3.1.1)\n",
      "Requirement already satisfied: python-dateutil>=2.7 in c:\\users\\badet\\documents\\code\\python_work\\scientific_stuff\\.conda\\lib\\site-packages (from matplotlib) (2.8.2)\n",
      "Requirement already satisfied: six>=1.5 in c:\\users\\badet\\documents\\code\\python_work\\scientific_stuff\\.conda\\lib\\site-packages (from python-dateutil>=2.7->matplotlib) (1.16.0)\n",
      "Note: you may need to restart the kernel to use updated packages.\n"
     ]
    },
    {
     "data": {
      "text/plain": [
       "(0.0, 6.0, 0.0, 20.0)"
      ]
     },
     "execution_count": 119,
     "metadata": {},
     "output_type": "execute_result"
    },
    {
     "data": {
      "image/png": "[encoded data removed]",
      "text/plain": [
       "<Figure size 640x480 with 1 Axes>"
      ]
     },
     "metadata": {},
     "output_type": "display_data"
    }
   ],
   "source": [
    "import matplotlib.pyplot as plt\n",
    "\n",
    "import numpy as np\n",
    "\n",
    "x = [1, 2, 2.5, 3, 4]\n",
    "y = [1, 4, 7, 9, 15]\n",
    "plt.plot(x, y, 'ro')\n",
    "%pip install matplotlib\n",
    "plt.axis([0, 6, 0, 20]) # type: ignore"
   ]
  },
  {
   "cell_type": "markdown",
   "metadata": {},
   "source": [
    "We can see that there is a linear correspondence between the data points. When x increases, so does y. Because of this relation we ccan create a line fo bestfit for this dataset. In this example our line will only use one input variable, as we are working in two dimensions. In larger datasets our line will have more features and inputs.\n",
    "\n",
    "Heres's an example of a line of best fit for this graph."
   ]
  },
  {
   "cell_type": "code",
   "execution_count": 120,
   "metadata": {},
   "outputs": [
    {
     "data": {
      "text/plain": [
       "[<matplotlib.lines.Line2D at 0x1fa40903810>]"
      ]
     },
     "execution_count": 120,
     "metadata": {},
     "output_type": "execute_result"
    },
    {
     "data": {
      "image/png": "[encoded data removed]",
      "text/plain": [
       "<Figure size 640x480 with 1 Axes>"
      ]
     },
     "metadata": {},
     "output_type": "display_data"
    }
   ],
   "source": [
    "plt.plot(x, y, 'ro')\n",
    "plt.axis([0, 6.0, 0, 20]) # type: ignore\n",
    "plt.plot(np.unique(x), np.poly1d(np.polyfit(x, y, 1))(np.unique(x)))"
   ]
  },
  {
   "cell_type": "markdown",
   "metadata": {},
   "source": [
    "Some setup we need"
   ]
  },
  {
   "cell_type": "code",
   "execution_count": 121,
   "metadata": {},
   "outputs": [],
   "source": [
    "from __future__ import absolute_import, division, print_function, unicode_literals\n",
    "\n",
    "import pandas as pd\n",
    "from IPython.display import clear_output\n",
    "# from six.moves import urllib\n",
    "\n",
    "# import tensorflow.compat.v2.feature_column as fc "
   ]
  },
  {
   "cell_type": "markdown",
   "metadata": {},
   "source": [
    "## Working with Data\n",
    "\n",
    "What we're working with is the Titanic Dataset, we will use this to predict the survivability of passengers on the titanic based on certain factors. \n"
   ]
  },
  {
   "cell_type": "code",
   "execution_count": 122,
   "metadata": {},
   "outputs": [
    {
     "data": {
      "text/plain": [
       "(627, 9)"
      ]
     },
     "execution_count": 122,
     "metadata": {},
     "output_type": "execute_result"
    }
   ],
   "source": [
    "#load dataset\n",
    "dftrain = pd.read_csv('./data/titanic/train.csv') # training data\n",
    "dfeval = pd.read_csv('./data/titanic/eval.csv') # testing data\n",
    "y_train = dftrain.pop('survived')\n",
    "y_eval = dfeval.pop('survived')\n",
    "dftrain.shape"
   ]
  },
  {
   "cell_type": "markdown",
   "metadata": {},
   "source": [
    "Some nice graphs we can  generate"
   ]
  },
  {
   "cell_type": "code",
   "execution_count": 123,
   "metadata": {},
   "outputs": [
    {
     "data": {
      "text/plain": [
       "<Axes: >"
      ]
     },
     "execution_count": 123,
     "metadata": {},
     "output_type": "execute_result"
    },
    {
     "data": {
      "image/png": "[encoded data removed]",
      "text/plain": [
       "<Figure size 640x480 with 1 Axes>"
      ]
     },
     "metadata": {},
     "output_type": "display_data"
    }
   ],
   "source": [
    "dftrain['age'].hist(bins=20)"
   ]
  },
  {
   "cell_type": "code",
   "execution_count": 124,
   "metadata": {},
   "outputs": [
    {
     "data": {
      "text/plain": [
       "<Axes: ylabel='sex'>"
      ]
     },
     "execution_count": 124,
     "metadata": {},
     "output_type": "execute_result"
    },
    {
     "data": {
      "image/png": "[encoded data removed]",
      "text/plain": [
       "<Figure size 640x480 with 1 Axes>"
      ]
     },
     "metadata": {},
     "output_type": "display_data"
    }
   ],
   "source": [
    "dftrain['sex'].value_counts().plot(kind='barh')"
   ]
  },
  {
   "cell_type": "code",
   "execution_count": 125,
   "metadata": {},
   "outputs": [
    {
     "data": {
      "text/plain": [
       "<Axes: ylabel='class'>"
      ]
     },
     "execution_count": 125,
     "metadata": {},
     "output_type": "execute_result"
    },
    {
     "data": {
      "image/png": "[encoded data removed]",
      "text/plain": [
       "<Figure size 640x480 with 1 Axes>"
      ]
     },
     "metadata": {},
     "output_type": "display_data"
    }
   ],
   "source": [
    "dftrain['class'].value_counts().plot(kind='barh')"
   ]
  },
  {
   "cell_type": "code",
   "execution_count": 126,
   "metadata": {},
   "outputs": [
    {
     "data": {
      "text/plain": [
       "Text(0.5, 0, '% survive')"
      ]
     },
     "execution_count": 126,
     "metadata": {},
     "output_type": "execute_result"
    },
    {
     "data": {
      "image/png": "[encoded data removed]",
      "text/plain": [
       "<Figure size 640x480 with 1 Axes>"
      ]
     },
     "metadata": {},
     "output_type": "display_data"
    }
   ],
   "source": [
    "pd.concat([dftrain, y_train], axis=1).groupby(\n",
    "    'sex').survived.mean().plot(kind='barh').set_xlabel('% survive')"
   ]
  },
  {
   "cell_type": "markdown",
   "metadata": {},
   "source": [
    "### Training and Testing\n",
    "Train data is what we feed to the model so it can develop and learn. \n",
    "Testing is what we use to evaluate the model. We must use a separate set of data that it has not been trained on.\n",
    "\n",
    "Categorical Data and Numerical Data\n",
    "Categorical data is data that is not numeric. But we must transform this data to numbers somehow.\n",
    "\n",
    "The model we want to train will need to be informed on the features of the input data. (What are the columns? What type of data is contained in the columns?)"
   ]
  },
  {
   "cell_type": "code",
   "execution_count": 97,
   "metadata": {},
   "outputs": [
    {
     "name": "stdout",
     "output_type": "stream",
     "text": [
      "[VocabularyListCategoricalColumn(key='sex', vocabulary_list=('male', 'female'), dtype=tf.string, default_value=-1, num_oov_buckets=0), VocabularyListCategoricalColumn(key='n_siblings_spouses', vocabulary_list=(1, 0, 3, 4, 2, 5, 8), dtype=tf.int64, default_value=-1, num_oov_buckets=0), VocabularyListCategoricalColumn(key='parch', vocabulary_list=(0, 1, 2, 5, 3, 4), dtype=tf.int64, default_value=-1, num_oov_buckets=0), VocabularyListCategoricalColumn(key='class', vocabulary_list=('Third', 'First', 'Second'), dtype=tf.string, default_value=-1, num_oov_buckets=0), VocabularyListCategoricalColumn(key='deck', vocabulary_list=('unknown', 'C', 'G', 'A', 'B', 'D', 'F', 'E'), dtype=tf.string, default_value=-1, num_oov_buckets=0), VocabularyListCategoricalColumn(key='embark_town', vocabulary_list=('Southampton', 'Cherbourg', 'Queenstown', 'unknown'), dtype=tf.string, default_value=-1, num_oov_buckets=0), VocabularyListCategoricalColumn(key='alone', vocabulary_list=('n', 'y'), dtype=tf.string, default_value=-1, num_oov_buckets=0), NumericColumn(key='age', shape=(1,), default_value=None, dtype=tf.float32, normalizer_fn=None), NumericColumn(key='fare', shape=(1,), default_value=None, dtype=tf.float32, normalizer_fn=None)]\n"
     ]
    }
   ],
   "source": [
    "CATEGORICAL_COLUMNS = ['sex', 'n_siblings_spouses', 'parch', 'class', 'deck',\n",
    "                       'embark_town', 'alone']\n",
    "\n",
    "NUMERIC_COLUMNS = ['age', 'fare']\n",
    "\n",
    "feature_columns = []\n",
    "\n",
    "for feature_name in CATEGORICAL_COLUMNS:\n",
    "  # get list of unique values from feature column\n",
    "  vocabulary = dftrain[feature_name].unique()\n",
    "  feature_columns.append(tf.feature_column.categorical_column_with_vocabulary_list(\n",
    "    feature_name, vocabulary))\n",
    "\n",
    "for feature_name in NUMERIC_COLUMNS:\n",
    "  feature_columns.append(tf.feature_column.numeric_column(\n",
    "    feature_name, dtype=tf.float32))\n",
    "\n",
    "print(feature_columns)"
   ]
  },
  {
   "cell_type": "markdown",
   "metadata": {},
   "source": [
    "## Training Process\n",
    "For this specific model data is going to be streamed into in it in small batches of 32. \n",
    "~~This is called Stochastic Gradient Descent.~~\n",
    "An epoch is simply on steam of our entire dataset. The number of epocchs we define is the amount of thimes our model is going to see our entire dataset. We use multiple epochs in the hope that after seeing the same data multiple times our model will be able to learn better how to estimate it. (we feed it again and again in a different order?)\n",
    "Sometimes there is such a thing as overfeeding, it basically memorizes those data points and is terrible at anything else.\n",
    "\n",
    "So we need to create an input function. This defines how our dataset will be converted into batches at each epoch.\n",
    "\n",
    "### Input Function\n",
    "The model we are going to ue requires that the data we pass into it comes in as a tf.data.Dataset object. This means we must create a input function that can convert our current data into that object.\n",
    "Below is an input untility function that will convert our current pandas dataframe into a tf.data.Dataset object for us."
   ]
  },
  {
   "cell_type": "code",
   "execution_count": 98,
   "metadata": {},
   "outputs": [
    {
     "name": "stdout",
     "output_type": "stream",
     "text": [
      "{'accuracy': 0.75, 'accuracy_baseline': 0.625, 'auc': 0.8263851, 'auc_precision_recall': 0.78812116, 'average_loss': 0.5118619, 'label/mean': 0.375, 'loss': 0.5082147, 'precision': 0.6386555, 'prediction/mean': 0.46590388, 'recall': 0.7676768, 'global_step': 200}\n"
     ]
    }
   ],
   "source": [
    "def make_input_fn(data_df, label_df, num_epochs=10, shuffle=True, batch_size=32):\n",
    "  \n",
    "  def input_function():  # inner function that will be returned\n",
    "    # create tf.data.Dataset object with data and its labels\n",
    "    # labels are is the data the model is to predict\n",
    "    ds = tf.data.Dataset.from_tensor_slices((dict(data_df), label_df))\n",
    "    if shuffle:\n",
    "      ds = ds.shuffle(1000)  # randomize order of data\n",
    "    \n",
    "    ds = ds.batch(batch_size).repeat(num_epochs)\n",
    "\n",
    "    return ds  # return a batch of the dataset\n",
    "\n",
    "  return input_function\n",
    "\n",
    "\n",
    "train_input_fn = make_input_fn(dftrain, y_train)\n",
    "eval_input_fn = make_input_fn(dfeval, y_eval, num_epochs=1, shuffle=False)\n",
    "\n",
    "# create a model with the feature columns\n",
    "linear_est = tf.estimator.LinearClassifier(feature_columns=feature_columns)\n",
    "\n",
    "linear_est.train(train_input_fn)  # train\n",
    "# get model metrics/stats by testing on testing data\n",
    "result = linear_est.evaluate(eval_input_fn)\n",
    "\n",
    "clear_output()\n",
    "print(result)  # type: ignore"
   ]
  },
  {
   "cell_type": "markdown",
   "metadata": {},
   "source": [
    "## How to use the model\n",
    "TensorFlow models are better at making predictions on large points of data not just one. But we'll do it anyway, just to learn"
   ]
  },
  {
   "cell_type": "code",
   "execution_count": 99,
   "metadata": {},
   "outputs": [
    {
     "name": "stdout",
     "output_type": "stream",
     "text": [
      "INFO:tensorflow:Calling model_fn.\n"
     ]
    },
    {
     "name": "stdout",
     "output_type": "stream",
     "text": [
      "INFO:tensorflow:Done calling model_fn.\n",
      "INFO:tensorflow:Graph was finalized.\n",
      "INFO:tensorflow:Restoring parameters from C:\\Users\\badet\\AppData\\Local\\Temp\\tmptsfylnj3\\model.ckpt-200\n",
      "INFO:tensorflow:Running local_init_op.\n",
      "INFO:tensorflow:Done running local_init_op.\n",
      "sex                          male\n",
      "age                          34.0\n",
      "n_siblings_spouses              0\n",
      "parch                           0\n",
      "fare                         13.0\n",
      "class                      Second\n",
      "deck                            D\n",
      "embark_town           Southampton\n",
      "alone                           y\n",
      "Name: 4, dtype: object\n",
      "1\n",
      "0.38660544\n"
     ]
    }
   ],
   "source": [
    "#labels are ignored during prediction\n",
    "result = list(linear_est.predict(eval_input_fn))\n",
    "\n",
    "print(dfeval.loc[4])\n",
    "print(y_eval.loc[4])\n",
    "print(result[4]['probabilities'][1])"
   ]
  },
  {
   "cell_type": "markdown",
   "metadata": {},
   "source": [
    "## Classification\n",
    "Classification is differentition between data points and seperating them into classes.\n",
    "The probability that a data point belongs to a class is called its confidence.\n",
    "We'll be using the Iris Dataset for this example, to classify the species of Iris flowers.\n",
    "\n",
    "### Dataset\n",
    "This dataset separates flowers into 3 different classes of species.\n",
    "- Iris Setosa\n",
    "- Iris Versicolor\n",
    "- Iris Virginica\n",
    "\n",
    "The information about each flower is the following\n",
    "- Sepal Length\n",
    "- Sepal Width\n",
    "- Petal Length\n",
    "- Petal Width"
   ]
  },
  {
   "cell_type": "code",
   "execution_count": 109,
   "metadata": {},
   "outputs": [],
   "source": [
    "CSV_COLUMN_NAMES = ['SepalLength', 'SepalWidth', 'PetalLength', 'Species']\n",
    "SPECIES = ['Setosa', 'Versicolor', 'Virginica']\n",
    "\n",
    "train_path = tf.keras.utils.get_file('iris_training.csv', # type: ignore\n",
    "                                     \"https://storage.googleapis.com/download.tensorflow.org/data/iris_training.csv\")\n",
    "test_path = tf.keras.utils.get_file('iris_test.csv', # type: ignore\n",
    "                                     \"https://storage.googleapis.com/download.tensorflow.org/data/iris_test.csv\")\n",
    "\n",
    "train = pd.read_csv(train_path, names=CSV_COLUMN_NAMES, header=0)\n",
    "test = pd.read_csv(test_path, names=CSV_COLUMN_NAMES, header=0)\n",
    "\n",
    "\n"
   ]
  },
  {
   "cell_type": "code",
   "execution_count": 101,
   "metadata": {},
   "outputs": [
    {
     "data": {
      "text/html": [
       "<div>\n",
       "<style scoped>\n",
       "    .dataframe tbody tr th:only-of-type {\n",
       "        vertical-align: middle;\n",
       "    }\n",
       "\n",
       "    .dataframe tbody tr th {\n",
       "        vertical-align: top;\n",
       "    }\n",
       "\n",
       "    .dataframe thead th {\n",
       "        text-align: right;\n",
       "    }\n",
       "</style>\n",
       "<table border=\"1\" class=\"dataframe\">\n",
       "  <thead>\n",
       "    <tr style=\"text-align: right;\">\n",
       "      <th></th>\n",
       "      <th>SepalLength</th>\n",
       "      <th>SepalWidth</th>\n",
       "      <th>PetalLength</th>\n",
       "      <th>Species</th>\n",
       "    </tr>\n",
       "  </thead>\n",
       "  <tbody>\n",
       "    <tr>\n",
       "      <th>6.4</th>\n",
       "      <td>2.8</td>\n",
       "      <td>5.6</td>\n",
       "      <td>2.2</td>\n",
       "      <td>2</td>\n",
       "    </tr>\n",
       "    <tr>\n",
       "      <th>5.0</th>\n",
       "      <td>2.3</td>\n",
       "      <td>3.3</td>\n",
       "      <td>1.0</td>\n",
       "      <td>1</td>\n",
       "    </tr>\n",
       "    <tr>\n",
       "      <th>4.9</th>\n",
       "      <td>2.5</td>\n",
       "      <td>4.5</td>\n",
       "      <td>1.7</td>\n",
       "      <td>2</td>\n",
       "    </tr>\n",
       "    <tr>\n",
       "      <th>4.9</th>\n",
       "      <td>3.1</td>\n",
       "      <td>1.5</td>\n",
       "      <td>0.1</td>\n",
       "      <td>0</td>\n",
       "    </tr>\n",
       "    <tr>\n",
       "      <th>5.7</th>\n",
       "      <td>3.8</td>\n",
       "      <td>1.7</td>\n",
       "      <td>0.3</td>\n",
       "      <td>0</td>\n",
       "    </tr>\n",
       "  </tbody>\n",
       "</table>\n",
       "</div>"
      ],
      "text/plain": [
       "     SepalLength  SepalWidth  PetalLength  Species\n",
       "6.4          2.8         5.6          2.2        2\n",
       "5.0          2.3         3.3          1.0        1\n",
       "4.9          2.5         4.5          1.7        2\n",
       "4.9          3.1         1.5          0.1        0\n",
       "5.7          3.8         1.7          0.3        0"
      ]
     },
     "execution_count": 101,
     "metadata": {},
     "output_type": "execute_result"
    }
   ],
   "source": [
    "train.head()"
   ]
  },
  {
   "cell_type": "markdown",
   "metadata": {},
   "source": [
    "Now we pop off the species column to use as our label"
   ]
  },
  {
   "cell_type": "code",
   "execution_count": null,
   "metadata": {},
   "outputs": [],
   "source": [
    "train_y = train.pop('Species')\n",
    "test_y = test.pop('Species')\n",
    "\n",
    "colors = train_y.map({0: 'b', 1: 'r', 2: 'g'})\n",
    "\n",
    "plt.scatter(train['SepalLength'],train['SepalWidth'],c=colors)\n",
    "plt.scatter(train['PetalLength'],train['SepalWidth'],c=colors)\n",
    "plt.show()\n"
   ]
  },
  {
   "cell_type": "markdown",
   "metadata": {},
   "source": [
    "We're also going to need a new input function to handle the new data."
   ]
  },
  {
   "cell_type": "code",
   "execution_count": 50,
   "metadata": {},
   "outputs": [],
   "source": [
    "def input_fn(features, labels, training=True, batch_size=256):\n",
    "  # Convert inputs to dataset\n",
    "  dataset = tf.data.Dataset.from_tensor_slices((dict(features), labels))\n",
    "\n",
    "  if training:\n",
    "    dataset = dataset.shuffle(1000).repeat()\n",
    "\n",
    "  return dataset.batch(batch_size)\n",
    "\n"
   ]
  },
  {
   "cell_type": "markdown",
   "metadata": {},
   "source": [
    "### Feature Columns\n",
    "\n",
    "The reason we are not processing this data as much as the one before is becaause it already comes in a numeric format. We just need to convert it to a tf.data.Dataset object."
   ]
  },
  {
   "cell_type": "code",
   "execution_count": 51,
   "metadata": {},
   "outputs": [
    {
     "name": "stdout",
     "output_type": "stream",
     "text": [
      "[NumericColumn(key='SepalLength', shape=(1,), default_value=None, dtype=tf.float32, normalizer_fn=None), NumericColumn(key='SepalWidth', shape=(1,), default_value=None, dtype=tf.float32, normalizer_fn=None), NumericColumn(key='PetalLength', shape=(1,), default_value=None, dtype=tf.float32, normalizer_fn=None)]\n"
     ]
    }
   ],
   "source": [
    "my_feature_columns = []\n",
    "for key in train.keys():\n",
    "  my_feature_columns.append(tf.feature_column.numeric_column(key=key))\n",
    "\n",
    "print(my_feature_columns)"
   ]
  },
  {
   "cell_type": "markdown",
   "metadata": {},
   "source": [
    "### Building the Model\n",
    "For classification we have a few options. Some are\n",
    " - Linear Classifier\n",
    " - DNN Classifier (Deep Neural Network)\n",
    "\n",
    "DNN seems to be the best choice. This is because we may not find a linear relationship between the data points. A DNN can learn more complex relationships between the data points."
   ]
  },
  {
   "cell_type": "code",
   "execution_count": 52,
   "metadata": {},
   "outputs": [
    {
     "name": "stdout",
     "output_type": "stream",
     "text": [
      "INFO:tensorflow:Using default config.\n",
      "WARNING:tensorflow:Using temporary folder as model directory: C:\\Users\\badet\\AppData\\Local\\Temp\\tmp5czckiii\n",
      "INFO:tensorflow:Using config: {'_model_dir': 'C:\\\\Users\\\\badet\\\\AppData\\\\Local\\\\Temp\\\\tmp5czckiii', '_tf_random_seed': None, '_save_summary_steps': 100, '_save_checkpoints_steps': None, '_save_checkpoints_secs': 600, '_session_config': allow_soft_placement: true\n",
      "graph_options {\n",
      "  rewrite_options {\n",
      "    meta_optimizer_iterations: ONE\n",
      "  }\n",
      "}\n",
      ", '_keep_checkpoint_max': 5, '_keep_checkpoint_every_n_hours': 10000, '_log_step_count_steps': 100, '_train_distribute': None, '_device_fn': None, '_protocol': None, '_eval_distribute': None, '_experimental_distribute': None, '_experimental_max_worker_delay_secs': None, '_session_creation_timeout_secs': 7200, '_checkpoint_save_graph_def': True, '_service': None, '_cluster_spec': ClusterSpec({}), '_task_type': 'worker', '_task_id': 0, '_global_id_in_cluster': 0, '_master': '', '_evaluation_master': '', '_is_chief': True, '_num_ps_replicas': 0, '_num_worker_replicas': 1}\n",
      "INFO:tensorflow:Calling model_fn.\n",
      "INFO:tensorflow:Done calling model_fn.\n",
      "INFO:tensorflow:Create CheckpointSaverHook.\n",
      "INFO:tensorflow:Graph was finalized.\n",
      "INFO:tensorflow:Running local_init_op.\n",
      "INFO:tensorflow:Done running local_init_op.\n",
      "INFO:tensorflow:Calling checkpoint listeners before saving checkpoint 0...\n",
      "INFO:tensorflow:Saving checkpoints for 0 into C:\\Users\\badet\\AppData\\Local\\Temp\\tmp5czckiii\\model.ckpt.\n",
      "INFO:tensorflow:Calling checkpoint listeners after saving checkpoint 0...\n",
      "INFO:tensorflow:loss = 1.2924638, step = 0\n",
      "INFO:tensorflow:global_step/sec: 395.973\n",
      "INFO:tensorflow:loss = 1.12349, step = 100 (0.254 sec)\n",
      "INFO:tensorflow:global_step/sec: 599.817\n",
      "INFO:tensorflow:loss = 1.0662444, step = 200 (0.166 sec)\n",
      "INFO:tensorflow:global_step/sec: 670.083\n",
      "INFO:tensorflow:loss = 1.0225946, step = 300 (0.152 sec)\n",
      "INFO:tensorflow:global_step/sec: 715.306\n",
      "INFO:tensorflow:loss = 0.9800015, step = 400 (0.137 sec)\n",
      "INFO:tensorflow:global_step/sec: 818.767\n",
      "INFO:tensorflow:loss = 0.9208207, step = 500 (0.123 sec)\n",
      "INFO:tensorflow:global_step/sec: 843.755\n",
      "INFO:tensorflow:loss = 0.863553, step = 600 (0.118 sec)\n",
      "INFO:tensorflow:global_step/sec: 755.515\n",
      "INFO:tensorflow:loss = 0.82272124, step = 700 (0.132 sec)\n",
      "INFO:tensorflow:global_step/sec: 699.916\n",
      "INFO:tensorflow:loss = 0.78771377, step = 800 (0.144 sec)\n",
      "INFO:tensorflow:global_step/sec: 677.76\n",
      "INFO:tensorflow:loss = 0.7692047, step = 900 (0.147 sec)\n",
      "INFO:tensorflow:global_step/sec: 689.566\n",
      "INFO:tensorflow:loss = 0.7451192, step = 1000 (0.144 sec)\n",
      "INFO:tensorflow:global_step/sec: 769.035\n",
      "INFO:tensorflow:loss = 0.7250295, step = 1100 (0.131 sec)\n",
      "INFO:tensorflow:global_step/sec: 660.335\n",
      "INFO:tensorflow:loss = 0.7036761, step = 1200 (0.151 sec)\n",
      "INFO:tensorflow:global_step/sec: 668.47\n",
      "INFO:tensorflow:loss = 0.697783, step = 1300 (0.150 sec)\n",
      "INFO:tensorflow:global_step/sec: 714.123\n",
      "INFO:tensorflow:loss = 0.68220973, step = 1400 (0.139 sec)\n",
      "INFO:tensorflow:global_step/sec: 762.131\n",
      "INFO:tensorflow:loss = 0.6621225, step = 1500 (0.131 sec)\n",
      "INFO:tensorflow:global_step/sec: 963.092\n",
      "INFO:tensorflow:loss = 0.647616, step = 1600 (0.105 sec)\n",
      "INFO:tensorflow:global_step/sec: 1004.72\n",
      "INFO:tensorflow:loss = 0.6464691, step = 1700 (0.100 sec)\n",
      "INFO:tensorflow:global_step/sec: 975.964\n",
      "INFO:tensorflow:loss = 0.6347301, step = 1800 (0.103 sec)\n",
      "INFO:tensorflow:global_step/sec: 820.7\n",
      "INFO:tensorflow:loss = 0.6186012, step = 1900 (0.121 sec)\n",
      "INFO:tensorflow:global_step/sec: 784.111\n",
      "INFO:tensorflow:loss = 0.60887325, step = 2000 (0.128 sec)\n",
      "INFO:tensorflow:global_step/sec: 899.982\n",
      "INFO:tensorflow:loss = 0.5976894, step = 2100 (0.111 sec)\n",
      "INFO:tensorflow:global_step/sec: 958.768\n",
      "INFO:tensorflow:loss = 0.58243966, step = 2200 (0.104 sec)\n",
      "INFO:tensorflow:global_step/sec: 960.162\n",
      "INFO:tensorflow:loss = 0.5875289, step = 2300 (0.103 sec)\n",
      "INFO:tensorflow:global_step/sec: 647.459\n",
      "INFO:tensorflow:loss = 0.5690187, step = 2400 (0.156 sec)\n",
      "INFO:tensorflow:global_step/sec: 969.949\n",
      "INFO:tensorflow:loss = 0.56155145, step = 2500 (0.103 sec)\n",
      "INFO:tensorflow:global_step/sec: 990.685\n",
      "INFO:tensorflow:loss = 0.5502797, step = 2600 (0.100 sec)\n",
      "INFO:tensorflow:global_step/sec: 929.832\n",
      "INFO:tensorflow:loss = 0.55627334, step = 2700 (0.109 sec)\n",
      "INFO:tensorflow:global_step/sec: 966.374\n",
      "INFO:tensorflow:loss = 0.54486287, step = 2800 (0.103 sec)\n",
      "INFO:tensorflow:global_step/sec: 937.622\n",
      "INFO:tensorflow:loss = 0.5482572, step = 2900 (0.107 sec)\n",
      "INFO:tensorflow:global_step/sec: 914.357\n",
      "INFO:tensorflow:loss = 0.52797294, step = 3000 (0.108 sec)\n",
      "INFO:tensorflow:global_step/sec: 939.031\n",
      "INFO:tensorflow:loss = 0.5364673, step = 3100 (0.108 sec)\n",
      "INFO:tensorflow:global_step/sec: 947.623\n",
      "INFO:tensorflow:loss = 0.5178989, step = 3200 (0.105 sec)\n",
      "INFO:tensorflow:global_step/sec: 951.312\n",
      "INFO:tensorflow:loss = 0.51393616, step = 3300 (0.104 sec)\n",
      "INFO:tensorflow:global_step/sec: 901.26\n",
      "INFO:tensorflow:loss = 0.49841356, step = 3400 (0.111 sec)\n",
      "INFO:tensorflow:global_step/sec: 941.402\n",
      "INFO:tensorflow:loss = 0.5039392, step = 3500 (0.107 sec)\n",
      "INFO:tensorflow:global_step/sec: 856.068\n",
      "INFO:tensorflow:loss = 0.50786567, step = 3600 (0.117 sec)\n",
      "INFO:tensorflow:global_step/sec: 640.586\n",
      "INFO:tensorflow:loss = 0.5075638, step = 3700 (0.156 sec)\n",
      "INFO:tensorflow:global_step/sec: 802.566\n",
      "INFO:tensorflow:loss = 0.48611325, step = 3800 (0.125 sec)\n",
      "INFO:tensorflow:global_step/sec: 778.1\n",
      "INFO:tensorflow:loss = 0.4889617, step = 3900 (0.129 sec)\n",
      "INFO:tensorflow:global_step/sec: 810.656\n",
      "INFO:tensorflow:loss = 0.48172644, step = 4000 (0.122 sec)\n",
      "INFO:tensorflow:global_step/sec: 993.24\n",
      "INFO:tensorflow:loss = 0.4892192, step = 4100 (0.102 sec)\n",
      "INFO:tensorflow:global_step/sec: 997.568\n",
      "INFO:tensorflow:loss = 0.48281032, step = 4200 (0.100 sec)\n",
      "INFO:tensorflow:global_step/sec: 656.414\n",
      "INFO:tensorflow:loss = 0.45938104, step = 4300 (0.151 sec)\n",
      "INFO:tensorflow:global_step/sec: 695.765\n",
      "INFO:tensorflow:loss = 0.47052628, step = 4400 (0.144 sec)\n",
      "INFO:tensorflow:global_step/sec: 963.822\n",
      "INFO:tensorflow:loss = 0.46715346, step = 4500 (0.105 sec)\n",
      "INFO:tensorflow:global_step/sec: 977.488\n",
      "INFO:tensorflow:loss = 0.44872046, step = 4600 (0.101 sec)\n",
      "INFO:tensorflow:global_step/sec: 924.116\n",
      "INFO:tensorflow:loss = 0.45134985, step = 4700 (0.108 sec)\n",
      "INFO:tensorflow:global_step/sec: 951.894\n",
      "INFO:tensorflow:loss = 0.44911188, step = 4800 (0.106 sec)\n",
      "INFO:tensorflow:global_step/sec: 955.213\n",
      "INFO:tensorflow:loss = 0.44070113, step = 4900 (0.105 sec)\n",
      "INFO:tensorflow:Calling checkpoint listeners before saving checkpoint 5000...\n",
      "INFO:tensorflow:Saving checkpoints for 5000 into C:\\Users\\badet\\AppData\\Local\\Temp\\tmp5czckiii\\model.ckpt.\n",
      "INFO:tensorflow:Calling checkpoint listeners after saving checkpoint 5000...\n",
      "INFO:tensorflow:Loss for final step: 0.44633335.\n"
     ]
    },
    {
     "data": {
      "text/plain": [
       "<tensorflow_estimator.python.estimator.canned.dnn.DNNClassifierV2 at 0x1fa3d82ad90>"
      ]
     },
     "execution_count": 52,
     "metadata": {},
     "output_type": "execute_result"
    }
   ],
   "source": [
    "# Build a model with 2 hidden layers with 30 and 10 nodes each.\n",
    "\n",
    "classifier = tf.estimator.DNNClassifier(\n",
    "    feature_columns=my_feature_columns,\n",
    "    # two hidden layers of 30 and 10 respectively\n",
    "    hidden_units=[30, 10],\n",
    "    # the model must choose between 3 classes.\n",
    "    n_classes=3\n",
    ")\n",
    "\n",
    "classifier.train(\n",
    "  input_fn=lambda: input_fn(train, train_y, training=True),\n",
    "  steps=5000\n",
    ")\n",
    "\n"
   ]
  },
  {
   "cell_type": "code",
   "execution_count": 53,
   "metadata": {},
   "outputs": [
    {
     "name": "stdout",
     "output_type": "stream",
     "text": [
      "INFO:tensorflow:Calling model_fn.\n"
     ]
    },
    {
     "name": "stdout",
     "output_type": "stream",
     "text": [
      "INFO:tensorflow:Done calling model_fn.\n",
      "INFO:tensorflow:Starting evaluation at 2023-12-22T10:41:35\n",
      "INFO:tensorflow:Graph was finalized.\n",
      "INFO:tensorflow:Restoring parameters from C:\\Users\\badet\\AppData\\Local\\Temp\\tmp5czckiii\\model.ckpt-5000\n",
      "INFO:tensorflow:Running local_init_op.\n",
      "INFO:tensorflow:Done running local_init_op.\n",
      "INFO:tensorflow:Inference Time : 0.31011s\n",
      "INFO:tensorflow:Finished evaluation at 2023-12-22-10:41:35\n",
      "INFO:tensorflow:Saving dict for global step 5000: accuracy = 0.8, average_loss = 0.51802975, global_step = 5000, loss = 0.51802975\n",
      "INFO:tensorflow:Saving 'checkpoint_path' summary for global step 5000: C:\\Users\\badet\\AppData\\Local\\Temp\\tmp5czckiii\\model.ckpt-5000\n",
      "\n",
      "Tetst set accuracy: 0.800\n",
      "\n"
     ]
    }
   ],
   "source": [
    "eval_result = classifier.evaluate(\n",
    "  input_fn=lambda: input_fn(test, test_y, training=False)\n",
    ")\n",
    "\n",
    "print('\\nTetst set accuracy: {accuracy:0.3f}\\n'.format(**eval_result)) # type: ignore\n"
   ]
  },
  {
   "cell_type": "markdown",
   "metadata": {},
   "source": [
    "### Making predictions"
   ]
  },
  {
   "cell_type": "code",
   "execution_count": 54,
   "metadata": {},
   "outputs": [
    {
     "name": "stdout",
     "output_type": "stream",
     "text": [
      "Please type in numeric values as prompted\n",
      "INFO:tensorflow:Calling model_fn.\n",
      "INFO:tensorflow:Done calling model_fn.\n",
      "INFO:tensorflow:Graph was finalized.\n",
      "INFO:tensorflow:Restoring parameters from C:\\Users\\badet\\AppData\\Local\\Temp\\tmp5czckiii\\model.ckpt-5000\n",
      "INFO:tensorflow:Running local_init_op.\n",
      "INFO:tensorflow:Done running local_init_op.\n",
      "{'logits': array([ 2.9462047,  1.0332872, -2.5155103], dtype=float32), 'probabilities': array([0.86813456, 0.12817918, 0.00368633], dtype=float32), 'class_ids': array([0], dtype=int64), 'classes': array([b'0'], dtype=object), 'all_class_ids': array([0, 1, 2]), 'all_classes': array([b'0', b'1', b'2'], dtype=object)}\n",
      "Prediction is \"Setosa\" (86.813456%)\n"
     ]
    }
   ],
   "source": [
    "def input_fn(feature, batch_size=256):\n",
    "  return tf.data.Dataset.from_tensor_slices(dict(feature)).batch(batch_size)\n",
    "\n",
    "\n",
    "features = ['SepalLength', 'SepalWidth', 'PetalLength', 'PetalWidth']\n",
    "predict = {}\n",
    "print(\"Please type in numeric values as prompted\")\n",
    "\n",
    "for feature in features:\n",
    "  valid = True\n",
    "  while valid:\n",
    "    val = input(feature + \":\")\n",
    "    if not val.isdigit():\n",
    "      valid = False\n",
    "\n",
    "    predict[feature] = [float(val)]\n",
    "    \n",
    "predictions = classifier.predict(input_fn=lambda: input_fn(predict))\n",
    "\n",
    "for pred_dict in predictions:\n",
    "  print(pred_dict)\n",
    "  class_id = pred_dict['class_ids'][0]\n",
    "  probability = pred_dict['probabilities'][class_id]\n",
    "  print('Prediction is \"{0}\" ({1:1f}%)'.format(\n",
    "    SPECIES[class_id], 100 * probability\n",
    "  ))      \n"
   ]
  },
  {
   "cell_type": "markdown",
   "metadata": {},
   "source": [
    "Some exaple input data with expected class to try out our model."
   ]
  },
  {
   "cell_type": "code",
   "execution_count": 55,
   "metadata": {},
   "outputs": [
    {
     "name": "stdout",
     "output_type": "stream",
     "text": [
      "INFO:tensorflow:Calling model_fn.\n"
     ]
    },
    {
     "name": "stdout",
     "output_type": "stream",
     "text": [
      "INFO:tensorflow:Done calling model_fn.\n",
      "INFO:tensorflow:Graph was finalized.\n",
      "INFO:tensorflow:Restoring parameters from C:\\Users\\badet\\AppData\\Local\\Temp\\tmp5czckiii\\model.ckpt-5000\n",
      "INFO:tensorflow:Running local_init_op.\n",
      "INFO:tensorflow:Done running local_init_op.\n",
      "Prediction is \"Setosa\" (71.702844%)\n",
      "Prediction is \"Setosa\" (86.813444%)\n",
      "Prediction is \"Setosa\" (93.510205%)\n"
     ]
    }
   ],
   "source": [
    "expected = ['Setosa', 'Versicolor', 'Virginica']\n",
    "predict_x = {\n",
    "  'SepalLength' : [5.1,5.9,6.9],\n",
    "  'SepalWidth' : [3.3,3.0,3.1],\n",
    "  'PetalLength': [1.7,4.2,5.4],\n",
    "  'PetalWidth': [0.5,1.5,2.1]\n",
    "}\n",
    "\n",
    "predictions = classifier.predict(input_fn=lambda: input_fn(predict_x))\n",
    "\n",
    "for pred_dict in predictions:\n",
    "  class_id = pred_dict['class_ids'][0]\n",
    "  probability = pred_dict['probabilities'][class_id]\n",
    "  print('Prediction is \"{0}\" ({1:1f}%)'.format(\n",
    "    SPECIES[class_id], 100 * probability\n",
    "  )) "
   ]
  },
  {
   "cell_type": "markdown",
   "metadata": {},
   "source": [
    "## Clustering\n",
    "We use this to find patterns in data when we don't know what we're looking for. We use this to find groups of similar data points and label them. We can then use this to label new data points. \n",
    "We put in how many clusters we want and it finds them for us.\n",
    "(This might be better for the Iris dataset)\n",
    "\n",
    "### K-Means Clustering\n",
    "This is the most popular clustering algorithm. It finds clusters of points that are close to each other. The number of clusters is defined by the user. Unfortunately there are issues with TensorFlow's implementation of K-Means. This means we'll have to write the algorithm ourselves.\n",
    "\n",
    "### Basic K-Means Algorithm\n",
    "1. Randomly pick K points to place K centroids\n",
    "2. Assign all of the data points to the centroids by distance. The closest centroid to a point is the one it is assigned to.\n",
    "3. Average all of the points belonging to each centroid to find the middle of those clusters (center of mass). Place the corresponding centroids into that position.\n",
    "4. Reassign every point once again to the closest centroid.\n",
    "5. Repeat steps 3-4 until no point changes which centroid it belongs to."
   ]
  },
  {
   "cell_type": "markdown",
   "metadata": {},
   "source": [
    "## Hidden Markov Models\n",
    "So far we've used algorithmgs that rely on data. However Hidden Markov Models deal with probability distribution.\n",
    "\n",
    "Say what we want to predict the weather on any given day given the probability of different events occuring. Maybe we know some information about sunny days and cold days. We know if its sunny, there's an 80% chance it'll be sunny the next day. Using this information on the probability of events occuring we can predict the weather for the next 10 days with a markov model.\n",
    "\n",
    "So how do we know our probabilities? Alot of times you actually do know the probability of an event occuring. But sometimes what happens is that you have a huge dataset and you calculate the probability of an event occuring based on the frequency of it occuring in the dataset. This is called the empirical probability.\n",
    "\n",
    "Okay, time for more technical lingo.\n",
    "- **States**: The Hidden Markov Model is a finite set of states, each of which is accociated with a (generally multidimensional) probability distribution. Transitions among the states are governed by a set of probabilities called transition probabilities.\n",
    "\n",
    "So we have these states in a hidden markov model. For example in the weather model. The states we could are Hot day and cold day. We call them hidden because we never directly observe them. What we look are called observations. And each state has an observation.\n",
    "\n",
    "- **Observation**: Each state has a particular outcome or observation associated with it based on a probability distribution.\n",
    "If it is hot outside, Time has a 20% chance of being happy. If it is cold outside, Time has a 50% chance of being happy.\n",
    "At that state we can observe the probability of something happening as x. \n",
    "In our weather example, the observations are the weather conditions. Each state has a particular set of observations associated with it. We can't see the state, but we can see the observations. For example, on a sunny day the probability of being between 5 and 15 degrees is  a probability we can use.\n",
    "\n",
    "- **Transition**: Each state has a probability of transitioning to a different state. For example, if it is a sunny day, there is a 70% chance it will be sunny the next day and a 20% chance it will be cloudy the next day.\n",
    "\n",
    "To create a Hidden Markov Model we need to know\n",
    "- States\n",
    "- Observation distribution\n",
    "- Transition distribution\n",
    "\n",
    "For our purposes we'll assume we have all this information.\n"
   ]
  },
  {
   "cell_type": "markdown",
   "metadata": {},
   "source": [
    "Imports and Setup"
   ]
  },
  {
   "cell_type": "code",
   "execution_count": 131,
   "metadata": {},
   "outputs": [],
   "source": [
    "import tensorflow as tf\n",
    "import tensorflow_probability as tfp"
   ]
  },
  {
   "cell_type": "markdown",
   "metadata": {},
   "source": [
    "## Weather Model\n",
    "We will model a simple weather system and try to predict the temperature on each day given the following information.\n",
    "\n",
    "1. Cold days are encoded by a 0 and hot days are encoded by a 1.\n",
    "2. The first day in our sequence has an 80% chance of being cold.\n",
    "3. A cold day has a 30% chance of being followed by a hot day.\n",
    "4. A hot day has a 20% chance of being followed by a cold day.\n",
    "5. On each day the temperature is normally distributed with mean and standard deviation 0 and 5 on a cold day and mean and standard deviation 15 and 10 on a hot day.\n",
    "\n",
    "Standard can simply be put as the range of expected variance. So if we have a standard deviation of 5, we can expect the temperature to be within 5 degrees of the mean."
   ]
  },
  {
   "cell_type": "code",
   "execution_count": 132,
   "metadata": {},
   "outputs": [],
   "source": [
    "tfd = tfp.distributions  # making a shortcut for later on\n",
    "initial_distribution = tfd.Categorical(probs=[0.8, 0.2])  # refer to point 2\n",
    "transition_distribution = tfd.Categorical(probs=[\n",
    "  [0.7, 0.3],\n",
    "  [0.2, 0.8]  # refer to points 3 and 4 above\n",
    "])\n",
    "\n",
    "observation_distribution = tfd.Normal(loc=[0., 15.], scale=[5., 10.]) # refer to point 5\n",
    "\n",
    "model = tfd.HiddenMarkovModel(\n",
    "  initial_distribution = initial_distribution,\n",
    "  transition_distribution=transition_distribution,\n",
    "  observation_distribution=observation_distribution,\n",
    "  num_steps=7 #how many times we'll step through this probability cycle\n",
    ")"
   ]
  },
  {
   "cell_type": "markdown",
   "metadata": {},
   "source": [
    "The number of steps represents the number of days we want to predict the weather for. In this case we'll do 7 days.\n",
    "To get the expected temperature for each day we can do the following"
   ]
  },
  {
   "cell_type": "code",
   "execution_count": 133,
   "metadata": {},
   "outputs": [
    {
     "name": "stdout",
     "output_type": "stream",
     "text": [
      "[3.        5.9999995 7.4999995 8.25      8.625001  8.812501  8.90625  ]\n"
     ]
    }
   ],
   "source": [
    "mean = model.mean() \n",
    "\n",
    "# due to the way TensorFlow works on a lower level we need to evaluate part of the graph\n",
    "# from within a session to see the value of this tensor\n",
    "\n",
    "with tf.compat.v1.Session() as sess:\n",
    "  print(mean.numpy())"
   ]
  },
  {
   "cell_type": "markdown",
   "metadata": {},
   "source": [
    "# Neural Networks with TensorFlow\n",
    "\n",
    "## What is a Neural Network?\n",
    "The aim of a neural network is to provide classification or prediction. \n",
    "\n",
    "A neural network is made up of layers.\n",
    "\n",
    "### Input Layer\n",
    "This is the first layer that accepts our raw data. Say you had a 28 x 28 image you want to feed in as your input. You would need to have 784 input nodes. Each node represents a pixel in the image. \n",
    "\n",
    "### Output Layer\n",
    "This is the last layer that outputs the result of our neural network. For example, if we were trying to classify an image as a number between 0 and 9, we would have 10 output nodes. Each node would represent a number between 0 and 9. The node with the highest value would be our prediction. \n",
    "It is better to have a single output node for each class.\n",
    "\n",
    "### Hidden Layers\n",
    "These are the layers in between the input and output layers. They are called hidden layers because we never see their values.\n",
    "Every hidden layer is connected to another layer with weights. These weights are what the neural network will change during training.\n",
    "\n",
    "A densely connected layer is a layer in which each node is connected to every node in the previous layer.\n",
    "\n",
    "### Biases\n",
    "Biases exist in the previous layer to the layer that it affects. It doesn't take any input information. It is some constant numeric value. Its weights always have a value of 1. THey do not connect with each other. They are added to the network as trainable parameters. You can think of them as Y intercepts.\n",
    "\n",
    "![diagram of neural network](./images/Screenshot%202023-12-22%20200640.png)\n",
    "\n",
    "Equation in the right hand of the image is the weighted sum of bias for each node. The bias is added to the weighted sum of the previous layer. This is then passed through an activation function.\n",
    "\n",
    "### Activation Function\n",
    "This sort of sets limits on the range of outputs we can get.\n",
    "here are some common activation functions\n",
    "\n",
    "- Sigmoid: This activation function is used in binary classification problems. It squashes the output between the range of 0 and 1.\n",
    "- Tanh: This activation function is used in classification problems. It squashes the output between the range of -1 and 1.\n",
    "- ReLU: This activation function is used in classification problems. It is the most commonly used activation function. It does not activate all the neurons at the same time. It only activates the neurons that have a positive input. \n",
    "\n",
    "The point of activation is to introduce complexity into the model. Without activation, the model would be a simple linear regression model.\n",
    "\n",
    "### Loss Function\n",
    "This is a function that measures how good our predictions are. It measures the difference between the predicted value and the actual value. The goal of the neural network is to minimize the loss function. The loss function is also called the cost function.\n",
    "\n",
    "#### Some common loss functions\n",
    "- Mean Squared Error: This is the most common loss function for regression problems. It is the sum of the squared difference between the predicted value and the actual value.\n",
    "- Mean Absolute Error: This is another loss function for regression problems. It is the sum of the absolute difference between the predicted value and the actual value.\n",
    "- Hinge Loss: This is the loss function used in SVMs (Support Vector Machines). It is used for classification problems. It is the sum of the maximum of 0 and the difference between the predicted value and the actual value.\n",
    "\n",
    "### Training\n",
    "- Predictions are made with the randomly initialized weights. We then calculate the loss function by comparing the predicted value with the actual value.\n",
    "- We calculate the gradient, which is the direction we need to move to miinimize the loss function.\n",
    "- Then we use back propagation to update the weights of the neural network according to the calculated gradient.\n",
    "\n",
    "### Optimizers\n",
    "These are algorithms that minimize the loss function. They implement the back propagation algorithm.\n",
    "\n",
    "Okay, let's get to the code. (Finally 😁)"
   ]
  },
  {
   "cell_type": "code",
   "execution_count": 1,
   "metadata": {},
   "outputs": [
    {
     "name": "stdout",
     "output_type": "stream",
     "text": [
      "WARNING:tensorflow:From c:\\Users\\badet\\Documents\\Code\\python_work\\scientific_stuff\\.conda\\Lib\\site-packages\\keras\\src\\losses.py:2976: The name tf.losses.sparse_softmax_cross_entropy is deprecated. Please use tf.compat.v1.losses.sparse_softmax_cross_entropy instead.\n",
      "\n"
     ]
    }
   ],
   "source": [
    "import tensorflow as tf\n",
    "from tensorflow import keras # type: ignore\n",
    "import numpy as np\n",
    "import matplotlib.pyplot as plt\n",
    "\n"
   ]
  },
  {
   "cell_type": "markdown",
   "metadata": {},
   "source": [
    "### Dataset\n",
    "We'll be using the MNIST Fashion dataset. It contains 60,000 images for training and 10,000 images for testing. "
   ]
  },
  {
   "cell_type": "code",
   "execution_count": 38,
   "metadata": {},
   "outputs": [],
   "source": [
    "fashion_mnist = keras.datasets.fashion_mnist  # load dataset\n",
    "(train_images, train_labels), (test_images,\n",
    "                               test_labels) = fashion_mnist.load_data()\n",
    "# so it's a collection of 28 x 28 arrays\n",
    "# where each value represents a pixel in an image in range of  0 - 255\n",
    "train_images[0]\n",
    "train_images.shape\n",
    "\n",
    "class_names = ['T-shirt/top', 'Trouser', 'Pullover', 'Dress', 'Coat',\n",
    "               'Sandal', 'Shirt', 'Sneaker', 'Bag','Ankle boot']\n"
   ]
  },
  {
   "cell_type": "markdown",
   "metadata": {},
   "source": [
    "Let's look at what these images look like"
   ]
  },
  {
   "cell_type": "code",
   "execution_count": 70,
   "metadata": {},
   "outputs": [
    {
     "data": {
      "image/png": "[encoded data removed]",
      "text/plain": [
       "<Figure size 640x480 with 2 Axes>"
      ]
     },
     "metadata": {},
     "output_type": "display_data"
    }
   ],
   "source": [
    "plt.figure()\n",
    "plt.imshow(test_images[34])\n",
    "plt.colorbar()\n",
    "plt.grid(False)"
   ]
  },
  {
   "cell_type": "markdown",
   "metadata": {},
   "source": [
    "### Data Preprocessing\n",
    "\n",
    "We need to normalize the data. This means we need to scale the data down to a range of 0 to 1. This is because the input values are between 0 and 255. We can do this by dividing the input values by 255.\n",
    "\n",
    "It's a good idea to make your numbers as small as possible. This is because the neural starts out with random weights and biases between 0 and 1 unless you change that. If you have large inputs with small weights it'll take way longer to train the model."
   ]
  },
  {
   "cell_type": "code",
   "execution_count": 39,
   "metadata": {},
   "outputs": [],
   "source": [
    "train_images = train_images / 255.0\n",
    "test_images = test_images / 255.0\n"
   ]
  },
  {
   "cell_type": "markdown",
   "metadata": {},
   "source": [
    "### Building the model\n",
    "Now we can build our model. We'll be using a Keras Sequential model with three different layers. This model represents a feed-forward neural network (one that passes values from left to right).\n",
    "\n",
    "Sequential is the most basic form of neural networks which is just information going from the left side to the right.\n",
    "\n",
    "**Note**\n",
    "Careful with epochs. Overfitting is real."
   ]
  },
  {
   "cell_type": "code",
   "execution_count": 53,
   "metadata": {},
   "outputs": [
    {
     "name": "stdout",
     "output_type": "stream",
     "text": [
      "Epoch 1/15\n",
      "1875/1875 [==============================] - 7s 3ms/step - loss: 0.4977 - accuracy: 0.8249\n",
      "Epoch 2/15\n",
      "1875/1875 [==============================] - 7s 4ms/step - loss: 0.3747 - accuracy: 0.8647\n",
      "Epoch 3/15\n",
      "1875/1875 [==============================] - 7s 4ms/step - loss: 0.3365 - accuracy: 0.8770\n",
      "Epoch 4/15\n",
      "1875/1875 [==============================] - 7s 4ms/step - loss: 0.3128 - accuracy: 0.8847\n",
      "Epoch 5/15\n",
      "1875/1875 [==============================] - 7s 4ms/step - loss: 0.2946 - accuracy: 0.8912\n",
      "Epoch 6/15\n",
      "1875/1875 [==============================] - 7s 4ms/step - loss: 0.2796 - accuracy: 0.8964\n",
      "Epoch 7/15\n",
      "1875/1875 [==============================] - 8s 4ms/step - loss: 0.2671 - accuracy: 0.9010\n",
      "Epoch 8/15\n",
      "1875/1875 [==============================] - 8s 4ms/step - loss: 0.2541 - accuracy: 0.9052\n",
      "Epoch 9/15\n",
      "1875/1875 [==============================] - 7s 4ms/step - loss: 0.2460 - accuracy: 0.9079\n",
      "Epoch 10/15\n",
      "1875/1875 [==============================] - 7s 4ms/step - loss: 0.2370 - accuracy: 0.9110\n",
      "Epoch 11/15\n",
      "1875/1875 [==============================] - 8s 4ms/step - loss: 0.2297 - accuracy: 0.9144\n",
      "Epoch 12/15\n",
      "1875/1875 [==============================] - 7s 4ms/step - loss: 0.2228 - accuracy: 0.9165\n",
      "Epoch 13/15\n",
      "1875/1875 [==============================] - 8s 4ms/step - loss: 0.2151 - accuracy: 0.9201\n",
      "Epoch 14/15\n",
      "1875/1875 [==============================] - 6s 3ms/step - loss: 0.2088 - accuracy: 0.9219\n",
      "Epoch 15/15\n",
      "1875/1875 [==============================] - 6s 3ms/step - loss: 0.2032 - accuracy: 0.9249\n"
     ]
    },
    {
     "data": {
      "text/plain": [
       "<keras.src.callbacks.History at 0x20ba3e04b90>"
      ]
     },
     "execution_count": 53,
     "metadata": {},
     "output_type": "execute_result"
    }
   ],
   "source": [
    "model = keras.Sequential([\n",
    "  keras.layers.Flatten(input_shape=(28,28)), #input layer (1)\n",
    "  keras.layers.Dense(128,activation='relu'), #hidden layer (2) arbitrary nubmer of neurons\n",
    "  keras.layers.Dense(10, activation='softmax') #output layer (3) number ofneuronsis the number of classes\n",
    "])\n",
    "\n",
    "model.compile(optimizer='adam', #TODO read up on these 'hyper parameters'\n",
    "              loss='sparse_categorical_crossentropy',\n",
    "              metrics=['accuracy'])\n",
    "# print(train_images.shape)\n",
    "model.fit(train_images,train_labels, epochs=15)\n"
   ]
  },
  {
   "cell_type": "code",
   "execution_count": 56,
   "metadata": {},
   "outputs": [
    {
     "name": "stdout",
     "output_type": "stream",
     "text": [
      "313/313 [==============================] - 1s 2ms/step - loss: 0.3580 - accuracy: 0.8823\n",
      "Test accuracy:  0.8823000192642212\n"
     ]
    }
   ],
   "source": [
    "test_loss, test_acc = model.evaluate(test_images, test_labels, verbose=1)\n",
    "print('Test accuracy: ',test_acc)"
   ]
  },
  {
   "cell_type": "code",
   "execution_count": 83,
   "metadata": {},
   "outputs": [
    {
     "name": "stdout",
     "output_type": "stream",
     "text": [
      "1/1 [==============================] - 0s 69ms/step\n"
     ]
    },
    {
     "data": {
      "image/png": "[encoded data removed]",
      "text/plain": [
       "<Figure size 640x480 with 2 Axes>"
      ]
     },
     "metadata": {},
     "output_type": "display_data"
    }
   ],
   "source": [
    "#let's make some predictions 😁\n",
    "def predict(index):\n",
    "  predictions = model.predict(np.array([test_images[index]]))\n",
    "  plt.figure()\n",
    "  plt.imshow(test_images[index], cmap=plt.cm.binary) # type: ignore\n",
    "  plt.title(f'Expected : {class_names[test_labels[index]]}')\n",
    "  plt.xlabel(\"Guessed : \"+class_names[np.argmax(predictions)])\n",
    "  plt.colorbar()\n",
    "  plt.grid(False)\n",
    "\n",
    "predict(45)"
   ]
  },
  {
   "cell_type": "markdown",
   "metadata": {},
   "source": [
    "## Deep Computer Vision with Convolutional Neural Networks\n",
    "\n",
    "\n",
    "### Image Data\n",
    "Previously we used two dimensional data to precess images. Well, that only worked because there were black and white images. Image data is usually made up of three dimensions.\n",
    "\n",
    "- Height\n",
    "- Width\n",
    "- Color Channels\n",
    "\n",
    "The number of color channels represent the depth of an image and correlates to the colors used in t. For example, a black and white image has a depth of 1 because it only has one color channel. A colored image has a depth of 3 because it has three color channels (red, green, blue). So for each pixel we have three numeric values in the range of 0 to 255.\n",
    "\n",
    "### What is a Convolutional Neural Network?\n",
    "The dense network we made previously looked at things globally, and recognized patterns that way. If a certain area of the picture was of a certain brightness, or in a certain pattern it would recognize it. But it would only recognize it if it was in the same place generally, in the image. If we were to say, flip the image around it won't necessarily recognize it.\n",
    "\n",
    "A convolutional neural network looks at things locally. Instead of recognizing that a certain part of the image should be this way for it to be a shoe, it just learns what a shoe is. \n",
    "What a convolutional layer does is look at our image and feef back to us an output feature map that tells what the location of the features are. \n",
    "It does this by looking at a small section of the image at a time. This is called a kernel/filter. It then moves the kernel over the image and looks at each section. It then outputs a feature map that tells us where the features are located.\n",
    "\n",
    "Stride is how many pixels we move the kernel/filter each time we move it. If we have a stride of 1, we move the kernel one pixel at a time. If we have a stride of 2, we move the kernel two pixels at a time.\n",
    "\n",
    "We can pad an image with a line of pixels to make the output feature map the same size as the input image. This is called same padding. If we don't pad the image, the output feature map will be smaller than the input image.\n",
    "\n",
    "### Pooling Layers\n",
    "After all this computation, we're going to have a lot of layers and we need a way t.\n",
    "A pooling operation is taking specific values from a sample of the output feature map. This is to reduce its dimensionality. \n",
    "\n",
    "We sample  the output feature map and take the maximum value from each section. This is called max pooling. We can also take the average value from each section. This is called average pooling.\n",
    "\n",
    "We have 3 kinds of pooling operation\n",
    "- min\n",
    "- max\n",
    "- average\n",
    "\n",
    "Let's get to making a model.\n",
    "\n",
    "We'll using a dataset built into the tensorflow called the CIFAR Image dataset. It contains 60,000 images for training and 10,000 images for testing. The images are 32 x 32 pixels with a depth of 3 (RGB).\n",
    "\n",
    "\n",
    "The labels are the following\n",
    "- 0: airplane\n",
    "- 1: automobile\n",
    "- 2: bird\n",
    "- 3: cat\n",
    "- 4: deer\n",
    "- 5: dog\n",
    "- 6: frog\n",
    "- 7: horse\n",
    "- 8: ship\n",
    "- 9: truck\n",
    "\n",
    "We'll load the dataset and have a look at some of the images."
   ]
  },
  {
   "cell_type": "code",
   "execution_count": 3,
   "metadata": {},
   "outputs": [
    {
     "name": "stdout",
     "output_type": "stream",
     "text": [
      "Downloading data from https://www.cs.toronto.edu/~kriz/cifar-10-python.tar.gz\n",
      "170498071/170498071 [==============================] - 646s 4us/step\n"
     ]
    }
   ],
   "source": [
    "import tensorflow as tf\n",
    "from tensorflow.keras import datasets, layers, models\n",
    "import matplotlib.pyplot as plt\n",
    "\n",
    "(train_images, train_labels), (test_images,\n",
    "                               test_labels) = datasets.cifar10.load_data()\n",
    "\n",
    "# normalize pixels values to be between 0 and 1\n",
    "train_images, test_images = train_images / 255.0, test_images / 255.0\n",
    "\n",
    "class_names = ['airplane', 'automobile', 'bird', 'cat',\n",
    "               'deer', 'dog', 'frog', 'horse', 'ship', 'truck']\n"
   ]
  },
  {
   "cell_type": "code",
   "execution_count": 5,
   "metadata": {},
   "outputs": [
    {
     "data": {
      "text/plain": [
       "Text(0.5, 0, 'automobile')"
      ]
     },
     "execution_count": 5,
     "metadata": {},
     "output_type": "execute_result"
    },
    {
     "data": {
      "image/png": "[encoded data removed]",
      "text/plain": [
       "<Figure size 640x480 with 1 Axes>"
      ]
     },
     "metadata": {},
     "output_type": "display_data"
    }
   ],
   "source": [
    "#let's take a look at the images in the dataset\n",
    "IMG_INDEX = 4\n",
    "plt.imshow(train_images[IMG_INDEX], cmap=plt.cm.binary)\n",
    "plt.xlabel(class_names[train_labels[IMG_INDEX][0]])\n"
   ]
  },
  {
   "cell_type": "code",
   "execution_count": 7,
   "metadata": {},
   "outputs": [
    {
     "name": "stdout",
     "output_type": "stream",
     "text": [
      "WARNING:tensorflow:From c:\\Users\\badet\\Documents\\Code\\python_work\\scientific_stuff\\.conda\\Lib\\site-packages\\keras\\src\\layers\\pooling\\max_pooling2d.py:161: The name tf.nn.max_pool is deprecated. Please use tf.nn.max_pool2d instead.\n",
      "\n"
     ]
    }
   ],
   "source": [
    "# building the model\n",
    "\n",
    "model = models.Sequential()\n",
    "# we are setting kernel size to 3x3 and number of filters to 64\n",
    "model.add(layers.Conv2D(32, (3, 3), activation='relu', input_shape=(32, 32, 3)))\n",
    "model.add(layers.MaxPooling2D((2,2)))\n",
    "model.add(layers.Conv2D(64, (3, 3), activation='relu'))\n",
    "model.add(layers.MaxPooling2D((2,2)))\n",
    "model.add(layers.Conv2D(64, (3, 3), activation='relu'))\n"
   ]
  },
  {
   "cell_type": "code",
   "execution_count": 9,
   "metadata": {},
   "outputs": [
    {
     "name": "stdout",
     "output_type": "stream",
     "text": [
      "Model: \"sequential_1\"\n",
      "_________________________________________________________________\n",
      " Layer (type)                Output Shape              Param #   \n",
      "=================================================================\n",
      " conv2d_1 (Conv2D)           (None, 30, 30, 32)        896       \n",
      "                                                                 \n",
      " max_pooling2d (MaxPooling2  (None, 15, 15, 32)        0         \n",
      " D)                                                              \n",
      "                                                                 \n",
      " conv2d_2 (Conv2D)           (None, 13, 13, 64)        18496     \n",
      "                                                                 \n",
      " max_pooling2d_1 (MaxPoolin  (None, 6, 6, 64)          0         \n",
      " g2D)                                                            \n",
      "                                                                 \n",
      " conv2d_3 (Conv2D)           (None, 4, 4, 64)          36928     \n",
      "                                                                 \n",
      "=================================================================\n",
      "Total params: 56320 (220.00 KB)\n",
      "Trainable params: 56320 (220.00 KB)\n",
      "Non-trainable params: 0 (0.00 Byte)\n",
      "_________________________________________________________________\n"
     ]
    }
   ],
   "source": [
    "model.summary()"
   ]
  },
  {
   "cell_type": "code",
   "execution_count": 11,
   "metadata": {},
   "outputs": [],
   "source": [
    "# all this does is extract the 'features' in the image\n",
    "# we add a dense network to determine the image class based on the extracted features\n",
    "model.add(layers.Flatten())\n",
    "model.add(layers.Dense(64, activation=\"relu\")) \n",
    "model.add(layers.Dense(10)) # output layer for the 10 classes"
   ]
  },
  {
   "cell_type": "code",
   "execution_count": 12,
   "metadata": {},
   "outputs": [
    {
     "name": "stdout",
     "output_type": "stream",
     "text": [
      "Model: \"sequential_1\"\n",
      "_________________________________________________________________\n",
      " Layer (type)                Output Shape              Param #   \n",
      "=================================================================\n",
      " conv2d_1 (Conv2D)           (None, 30, 30, 32)        896       \n",
      "                                                                 \n",
      " max_pooling2d (MaxPooling2  (None, 15, 15, 32)        0         \n",
      " D)                                                              \n",
      "                                                                 \n",
      " conv2d_2 (Conv2D)           (None, 13, 13, 64)        18496     \n",
      "                                                                 \n",
      " max_pooling2d_1 (MaxPoolin  (None, 6, 6, 64)          0         \n",
      " g2D)                                                            \n",
      "                                                                 \n",
      " conv2d_3 (Conv2D)           (None, 4, 4, 64)          36928     \n",
      "                                                                 \n",
      " flatten (Flatten)           (None, 1024)              0         \n",
      "                                                                 \n",
      " dense (Dense)               (None, 64)                65600     \n",
      "                                                                 \n",
      " flatten_1 (Flatten)         (None, 64)                0         \n",
      "                                                                 \n",
      " dense_1 (Dense)             (None, 64)                4160      \n",
      "                                                                 \n",
      " dense_2 (Dense)             (None, 10)                650       \n",
      "                                                                 \n",
      "=================================================================\n",
      "Total params: 126730 (495.04 KB)\n",
      "Trainable params: 126730 (495.04 KB)\n",
      "Non-trainable params: 0 (0.00 Byte)\n",
      "_________________________________________________________________\n"
     ]
    }
   ],
   "source": [
    "model.summary()"
   ]
  },
  {
   "cell_type": "markdown",
   "metadata": {},
   "source": [
    "The flatten layer changes the output of our data so we can feed it to the 64 dense node layer followed by the 10 dense node layer (one node for each class).\n",
    "\n",
    "**NOTE** Relu is Recitified Linear Unit. It is an activation function that is used in neural networks. It is the most commonly used activation function. It does not activate all the neurons at the same time. It only activates the neurons that have a positive input. Basically, if the input is negative, it outputs 0. If the input is positive, it outputs the input.\n",
    "\n",
    "### Training\n",
    "We'll train the model for 10 epochs. We'll also use the Adam optimizer. This is a popular optimizer that works well with image data."
   ]
  },
  {
   "cell_type": "code",
   "execution_count": 13,
   "metadata": {},
   "outputs": [
    {
     "name": "stdout",
     "output_type": "stream",
     "text": [
      "WARNING:tensorflow:From c:\\Users\\badet\\Documents\\Code\\python_work\\scientific_stuff\\.conda\\Lib\\site-packages\\keras\\src\\optimizers\\__init__.py:309: The name tf.train.Optimizer is deprecated. Please use tf.compat.v1.train.Optimizer instead.\n",
      "\n",
      "Epoch 1/10\n",
      "WARNING:tensorflow:From c:\\Users\\badet\\Documents\\Code\\python_work\\scientific_stuff\\.conda\\Lib\\site-packages\\keras\\src\\utils\\tf_utils.py:492: The name tf.ragged.RaggedTensorValue is deprecated. Please use tf.compat.v1.ragged.RaggedTensorValue instead.\n",
      "\n",
      "WARNING:tensorflow:From c:\\Users\\badet\\Documents\\Code\\python_work\\scientific_stuff\\.conda\\Lib\\site-packages\\keras\\src\\engine\\base_layer_utils.py:384: The name tf.executing_eagerly_outside_functions is deprecated. Please use tf.compat.v1.executing_eagerly_outside_functions instead.\n",
      "\n",
      "1563/1563 [==============================] - 30s 18ms/step - loss: 1.5218 - accuracy: 0.4413 - val_loss: 1.2014 - val_accuracy: 0.5715\n",
      "Epoch 2/10\n",
      "1563/1563 [==============================] - 31s 20ms/step - loss: 1.1393 - accuracy: 0.5936 - val_loss: 1.0787 - val_accuracy: 0.6203\n",
      "Epoch 3/10\n",
      "1563/1563 [==============================] - 31s 20ms/step - loss: 0.9904 - accuracy: 0.6510 - val_loss: 1.0181 - val_accuracy: 0.6466\n",
      "Epoch 4/10\n",
      "1563/1563 [==============================] - 38s 25ms/step - loss: 0.8870 - accuracy: 0.6877 - val_loss: 0.9524 - val_accuracy: 0.6704\n",
      "Epoch 5/10\n",
      "1563/1563 [==============================] - 47s 30ms/step - loss: 0.8146 - accuracy: 0.7139 - val_loss: 0.9453 - val_accuracy: 0.6739\n",
      "Epoch 6/10\n",
      "1563/1563 [==============================] - 43s 27ms/step - loss: 0.7587 - accuracy: 0.7326 - val_loss: 0.9471 - val_accuracy: 0.6811\n",
      "Epoch 7/10\n",
      "1563/1563 [==============================] - 42s 27ms/step - loss: 0.7106 - accuracy: 0.7491 - val_loss: 0.8706 - val_accuracy: 0.7019\n",
      "Epoch 8/10\n",
      "1563/1563 [==============================] - 42s 27ms/step - loss: 0.6623 - accuracy: 0.7670 - val_loss: 0.8916 - val_accuracy: 0.7002\n",
      "Epoch 9/10\n",
      "1563/1563 [==============================] - 49s 31ms/step - loss: 0.6273 - accuracy: 0.7794 - val_loss: 0.8940 - val_accuracy: 0.7072\n",
      "Epoch 10/10\n",
      "1563/1563 [==============================] - 33s 21ms/step - loss: 0.5923 - accuracy: 0.7912 - val_loss: 0.9290 - val_accuracy: 0.7028\n"
     ]
    }
   ],
   "source": [
    "model.compile(optimizer='adam',\n",
    "              loss=tf.keras.losses.SparseCategoricalCrossentropy(from_logits=True),\n",
    "              metrics=['accuracy'])\n",
    "\n",
    "history = model.fit(train_images, train_labels, epochs=10,\n",
    "                    validation_data=(test_images,test_labels))"
   ]
  },
  {
   "cell_type": "code",
   "execution_count": 14,
   "metadata": {},
   "outputs": [
    {
     "name": "stdout",
     "output_type": "stream",
     "text": [
      "313/313 - 2s - loss: 0.9290 - accuracy: 0.7028 - 2s/epoch - 6ms/step\n"
     ]
    }
   ],
   "source": [
    "# we can evaluate the model, we'll probably get the same accuracy since it was already evaluated witht test dataset\n",
    "\n",
    "test_loss, test_acc = model.evaluate(test_images, test_labels, verbose=2)\n"
   ]
  },
  {
   "cell_type": "markdown",
   "metadata": {},
   "source": [
    "You should get an accruacy of around 70% after 10 epochs. This isn't bad but we'll dive into some better approaches for computer vision below"
   ]
  }
 ],
 "metadata": {
  "kernelspec": {
   "display_name": "Python 3",
   "language": "python",
   "name": "python3"
  },
  "language_info": {
   "codemirror_mode": {
    "name": "ipython",
    "version": 3
   },
   "file_extension": ".py",
   "mimetype": "text/x-python",
   "name": "python",
   "nbconvert_exporter": "python",
   "pygments_lexer": "ipython3",
   "version": "3.11.5"
  }
 },
 "nbformat": 4,
 "nbformat_minor": 2
}
